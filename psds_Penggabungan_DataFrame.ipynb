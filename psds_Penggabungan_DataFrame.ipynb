{
  "nbformat": 4,
  "nbformat_minor": 0,
  "metadata": {
    "colab": {
      "provenance": [],
      "include_colab_link": true
    },
    "kernelspec": {
      "display_name": "Python 3",
      "language": "python",
      "name": "python3"
    },
    "language_info": {
      "codemirror_mode": {
        "name": "ipython",
        "version": 3
      },
      "file_extension": ".py",
      "mimetype": "text/x-python",
      "name": "python",
      "nbconvert_exporter": "python",
      "pygments_lexer": "ipython3",
      "version": "3.8.5"
    }
  },
  "cells": [
    {
      "cell_type": "markdown",
      "metadata": {
        "id": "view-in-github",
        "colab_type": "text"
      },
      "source": [
        "<a href=\"https://colab.research.google.com/github/khanapujiyanti/PSDS_5.0_KelasDasar/blob/main/psds_Penggabungan_DataFrame.ipynb\" target=\"_parent\"><img src=\"https://colab.research.google.com/assets/colab-badge.svg\" alt=\"Open In Colab\"/></a>"
      ]
    },
    {
      "cell_type": "markdown",
      "metadata": {
        "id": "go-wOxwA6o1A"
      },
      "source": [
        "# Penggabungan Series/Dataframe"
      ]
    },
    {
      "cell_type": "markdown",
      "metadata": {
        "id": "-b-RSU6j7L1m"
      },
      "source": [
        "Terdapat beberapa metode untuk menggabungkan Series/Dataframe di Pandas, yaitu:\n",
        "\n",
        "1. append\n",
        "2. concat\n",
        "3. merge\n",
        "4. join"
      ]
    },
    {
      "cell_type": "markdown",
      "metadata": {
        "id": "AbA9pa28fNkX"
      },
      "source": [
        "# Import Library\n",
        "\n",
        "Import beberapa library berikut untuk digunakan di sepanjang notebook ini:"
      ]
    },
    {
      "cell_type": "code",
      "metadata": {
        "id": "JWz7AAlrfVKY"
      },
      "source": [
        "import pandas as pd"
      ],
      "execution_count": null,
      "outputs": []
    },
    {
      "cell_type": "markdown",
      "metadata": {
        "id": "c2dGTcTr7iSz"
      },
      "source": [
        "## Append\n",
        "Method **.append()** dapat digunakan pada dataframe/series yang ditujukan untuk menambah row-nya saja."
      ]
    },
    {
      "cell_type": "code",
      "metadata": {
        "id": "mFtADqPI6oM4"
      },
      "source": [
        "# Membuat series of int (s1) dan series of string (s2)\n",
        "s1 = pd.Series([1,2,3,4,5,6])\n",
        "s2 = pd.Series([\"a\",\"b\",\"c\",\"d\",\"e\",\"f\"])\n",
        "# Menerapkan method append\n",
        "s1_append_s2 = s1.append(s2)\n",
        "print(\"Series - append:\\n\", s1_append_s2)"
      ],
      "execution_count": null,
      "outputs": []
    },
    {
      "cell_type": "markdown",
      "metadata": {
        "id": "i_u8J2T88s63"
      },
      "source": [
        "Untuk **Dataframe**"
      ]
    },
    {
      "cell_type": "code",
      "metadata": {
        "id": "o2FG1zkk8V4q"
      },
      "source": [
        "# Buat dataframe df1 dan df2\n",
        "df1 = pd.DataFrame({'a':[1,2],\n",
        "                    'b':[3,4]})\n",
        "print(\"df1:\\n\", df1)\n",
        "df2 = pd.DataFrame({'b':[1,2],\n",
        "                    'a':[3,4]})\n",
        "print(\"df2:\\n\", df2)\n",
        "# Terapkan method append\n",
        "df1_append_df2 = df1.append(df2)\n",
        "print(\"Dataframe - append:\\n\", df1_append_df2)"
      ],
      "execution_count": null,
      "outputs": []
    },
    {
      "cell_type": "markdown",
      "metadata": {
        "id": "OMqjeA-DACSV"
      },
      "source": [
        "##Concat\n",
        "\n",
        "Method **.concat()** dapat digunakan pada dataframe yang ditujukan untuk penggabungan baik dalam row-wise (dalam arah ) atau column-wise."
      ]
    },
    {
      "cell_type": "code",
      "metadata": {
        "id": "nObE4P9uAJ-U"
      },
      "source": [
        "# Membuat dataframe df1 dan df2\n",
        "df1 = pd.DataFrame({'a':[1,2],\n",
        "                    'b':[3,4]})\n",
        "print(\"df1:\\n\", df1)\n",
        "df2 = pd.DataFrame({'b':[1,2],\n",
        "                    'a':[3,4]})\n",
        "print(\"df2:\\n\", df2)\n",
        "# Menerapkan method concat row-wise\n",
        "row_wise_concat = pd.concat([df1,df2])\n",
        "print(\"Row-wise - concat:\\n\", row_wise_concat)"
      ],
      "execution_count": null,
      "outputs": []
    },
    {
      "cell_type": "markdown",
      "metadata": {
        "id": "HYKOGDPqA1J9"
      },
      "source": [
        "Untuk penerapan concat pada **column-wise**"
      ]
    },
    {
      "cell_type": "code",
      "metadata": {
        "id": "HtoXHBbFAm5j"
      },
      "source": [
        "# Terapkan method concat column-wise\n",
        "col_wise_concat = pd.concat([df1, df2], axis=1)\n",
        "print(\"Column-wise - concat:\\n\", col_wise_concat)"
      ],
      "execution_count": null,
      "outputs": []
    },
    {
      "cell_type": "markdown",
      "metadata": {
        "id": "smpzEZXzBQ-L"
      },
      "source": [
        "Dapat juga menambahkan identifier dari dataframe untuk data yang ditambahkan"
      ]
    },
    {
      "cell_type": "code",
      "metadata": {
        "id": "X3cEPhNqBLt-"
      },
      "source": [
        "# Penambahan identifier --> membentuh hasil penggabungan multiindex\n",
        "multiindex_concat = pd.concat([df1,df2],axis=0,keys=['df1','df2'])\n",
        "print(\"Multiindex - concat:\\n\", multiindex_concat)"
      ],
      "execution_count": null,
      "outputs": []
    },
    {
      "cell_type": "markdown",
      "metadata": {
        "id": "yDjAEzpIDhXe"
      },
      "source": [
        "## Merge\n",
        "Method **.merge()** untuk menggabungkan Series/Dataframe yang bentuknya mirip dengan syntax join di SQL, specify left and right tables, join key dan how to join (left, right, inner, full outer)."
      ]
    },
    {
      "cell_type": "code",
      "metadata": {
        "id": "lAKzqBJFC7MT"
      },
      "source": [
        "# Membuat dataframe df1 dan df2\n",
        "df1 = pd.DataFrame({\n",
        "   'key':['k1','k2','k3','k4','k5'],\n",
        "   'val1':[200, 500, 0, 500, 100],\n",
        "   'val2':[30, 50, 100, 20, 10]\n",
        "})\n",
        "print(\"df1:\\n\", df1)\n",
        "df2 = pd.DataFrame({\n",
        "   'key':['k1','k3','k5','k7','k10'],\n",
        "   'val3':[1,2,3,4,5],\n",
        "   'val4':[6,7,8,8,10]\n",
        "})\n",
        "print(\"df2:\\n\", df2)"
      ],
      "execution_count": null,
      "outputs": []
    },
    {
      "cell_type": "markdown",
      "metadata": {
        "id": "dS9LY0cvE487"
      },
      "source": [
        "pd.merge yang ekivalen dengan SQL **left join**"
      ]
    },
    {
      "cell_type": "code",
      "metadata": {
        "id": "45Vbb8IEEsvp"
      },
      "source": [
        "# Merge yang ekivalen dengan SQL left join\n",
        "merge_df_left = pd.merge(left=df1, right=df2, how='left', left_on='key',right_on='key')\n",
        "print('Merge - Left:\\n', merge_df_left)"
      ],
      "execution_count": null,
      "outputs": []
    },
    {
      "cell_type": "markdown",
      "metadata": {
        "id": "uRmbyjAzFC9k"
      },
      "source": [
        "pd.merge yang ekivalen dengan SQL **right join**"
      ]
    },
    {
      "cell_type": "code",
      "metadata": {
        "id": "gN2jpEv9E_rq"
      },
      "source": [
        "# Merge yang ekivalen dengan SQL right join\n",
        "merge_df_right = pd.merge(left=df1, right=df2, how='right', left_on='key',right_on='key')\n",
        "print('Merge - Right:\\n', merge_df_right)"
      ],
      "execution_count": null,
      "outputs": []
    },
    {
      "cell_type": "markdown",
      "metadata": {
        "id": "ViQ0WzAeFaPl"
      },
      "source": [
        "pd.merge yang ekivalen dengan SQL **inner join**"
      ]
    },
    {
      "cell_type": "code",
      "metadata": {
        "id": "SO0gaIRiFIN5"
      },
      "source": [
        "# Merge yang ekivalen dengan SQL inner join\n",
        "merge_df_inner = pd.merge(left=df1, right=df2, how='inner', left_on='key',right_on='key')\n",
        "print('Merge - Inner:\\n', merge_df_inner)"
      ],
      "execution_count": null,
      "outputs": []
    },
    {
      "cell_type": "markdown",
      "metadata": {
        "id": "iZWKyBAtFicO"
      },
      "source": [
        "pd.merge yang ekivalen dengan SQL **outer join**"
      ]
    },
    {
      "cell_type": "code",
      "metadata": {
        "id": "9mGhoQcSFfkn"
      },
      "source": [
        "# Merge yang ekivalen dengan SQL outer join\n",
        "merge_df_outer = pd.merge(left=df1, right=df2, how='outer', left_on='key',right_on='key')\n",
        "print('Merge - Outer:\\n', merge_df_outer)"
      ],
      "execution_count": null,
      "outputs": []
    },
    {
      "cell_type": "markdown",
      "metadata": {
        "id": "4anCZ5zZFxSD"
      },
      "source": [
        "Bagaimana jika salah satu dataframe atau keseluruhan dataframe yang akan digabungkan tersebut memiliki multiindex?"
      ]
    },
    {
      "cell_type": "code",
      "metadata": {
        "id": "9y-Ea8zmFuwN"
      },
      "source": [
        "# Membuat dataframe df1 dan df2\n",
        "df1 = pd.DataFrame({\n",
        "   'key':['k1','k2','k3','k4','k5'],\n",
        "   'val1':[200, 500, 0, 500, 100],\n",
        "   'val2':[30, 50, 100, 20, 10]\n",
        "}).set_index(['key','val2'])\n",
        "print('Dataframe 1:\\n', df1)\n",
        "df2 = pd.DataFrame({\n",
        "   'key':['k1','k3','k5','k7','k10'],\n",
        "   'val3':[1,2,3,4,5],\n",
        "   'val4':[6,7,8,8,10]\n",
        "}).set_index(['key','val3'])\n",
        "print('Dataframe 2:\\n', df2)"
      ],
      "execution_count": null,
      "outputs": []
    },
    {
      "cell_type": "markdown",
      "metadata": {
        "id": "5KUEuthIHunw"
      },
      "source": [
        "Jika digabungkan secara langsung seperti yang telah dilakukan pada bagian sebelumnya"
      ]
    },
    {
      "cell_type": "code",
      "metadata": {
        "id": "NNvvWztIHtnJ"
      },
      "source": [
        "# Merge dataframe yang memiliki multi index\n",
        "# df_merge = pd.merge(df1,df2)\n",
        "# print('Merging dataframe:\\n', df_merge)"
      ],
      "execution_count": null,
      "outputs": []
    },
    {
      "cell_type": "code",
      "metadata": {
        "id": "ozs3Yk4yH7aT"
      },
      "source": [
        "# Merge dataframe yang memiliki multi index\n",
        "df_merge = pd.merge(df1.reset_index(),df2.reset_index())\n",
        "print('Merging dataframe:\\n', df_merge)"
      ],
      "execution_count": null,
      "outputs": []
    },
    {
      "cell_type": "markdown",
      "metadata": {
        "id": "XaeKec8tJ7Q-"
      },
      "source": [
        "## Join\n",
        "Metthod **.join()** digunakan pada dataframe untuk menggabungkan kedua data dengan set index pada kedua tabel tersebut sebagai join key, tanpa index, hal ini tidak akan berhasil.\n"
      ]
    },
    {
      "cell_type": "code",
      "metadata": {
        "id": "CYOFHog9IEVb"
      },
      "source": [
        "# Buat dataframe df1 dan df2\n",
        "df1 = pd.DataFrame({\n",
        "   'key':['k1','k2','k3','k4','k5'],\n",
        "   'val1':[200, 500, 0, 500, 100],\n",
        "   'val2':[30, 50, 100, 20, 10]\n",
        "})\n",
        "df2 = pd.DataFrame({\n",
        "   'key':['k1','k3','k5','k7','k10'],\n",
        "   'val3':[1,2,3,4,5],\n",
        "   'val4':[6,7,8,8,10]\n",
        "})\n",
        "# Penerapan join dengan menggunakan set_index dan keyword how\n",
        "# df1.join(df2) #<-- akan error"
      ],
      "execution_count": null,
      "outputs": []
    },
    {
      "cell_type": "code",
      "metadata": {
        "id": "FIZ4gv0tKSV1"
      },
      "source": [
        "print(df1.set_index('key').join(df2.set_index('key')))"
      ],
      "execution_count": null,
      "outputs": []
    },
    {
      "cell_type": "markdown",
      "metadata": {
        "id": "UVuCe7Q-KqIr"
      },
      "source": [
        "Untuk tipe join yang lain (contoh=inner), harus menspecify keyword how='inner' seperti yang dicontohkan berikut ini"
      ]
    },
    {
      "cell_type": "code",
      "metadata": {
        "id": "uZJUfDa8KkYp"
      },
      "source": [
        "join_df = df1.set_index('key').join(df2.set_index('key'), how='inner')\n",
        "print(join_df)"
      ],
      "execution_count": null,
      "outputs": []
    }
  ]
}