{
  "nbformat": 4,
  "nbformat_minor": 0,
  "metadata": {
    "colab": {
      "provenance": [],
      "authorship_tag": "ABX9TyNMQmi31Au36a8wYi41sVye",
      "include_colab_link": true
    },
    "kernelspec": {
      "name": "python3",
      "display_name": "Python 3"
    },
    "language_info": {
      "name": "python"
    }
  },
  "cells": [
    {
      "cell_type": "markdown",
      "metadata": {
        "id": "view-in-github",
        "colab_type": "text"
      },
      "source": [
        "<a href=\"https://colab.research.google.com/github/khanapujiyanti/PSDS_5.0_KelasDasar/blob/main/psds3_List.ipynb\" target=\"_parent\"><img src=\"https://colab.research.google.com/assets/colab-badge.svg\" alt=\"Open In Colab\"/></a>"
      ]
    },
    {
      "cell_type": "markdown",
      "source": [
        "## List"
      ],
      "metadata": {
        "id": "8Cl5h847XM0T"
      }
    },
    {
      "cell_type": "markdown",
      "source": [
        "List adalah jenis kumpulan data terurut (ordered sequence), bisa diubah elemennya(mutable), bisa ditambahkan elemen baru atau menghapus elemen (changeable), dan merupakan salah satu variabel yang sering digunakan pada Python. Serupa, namun tak sama dengan array pada bahasa pemrograman lainnya. Bedanya, elemen List pada Python tidak harus memiliki tipe data yang sama. Mendeklarasikan List cukup mudah dengan kurung siku dan elemen yang dipisahkan dengan koma.\n",
        "\n",
        "Setiap data di dalamnya dapat diakses dengan indeks yang dimulai dari 0."
      ],
      "metadata": {
        "id": "hgrZyKjTXQG6"
      }
    },
    {
      "cell_type": "code",
      "execution_count": null,
      "metadata": {
        "colab": {
          "base_uri": "https://localhost:8080/"
        },
        "id": "FlxozQrXW0SY",
        "outputId": "6a44f058-9e2d-45ae-8f7b-09eaba9c0051"
      },
      "outputs": [
        {
          "output_type": "stream",
          "name": "stdout",
          "text": [
            "<class 'list'>\n"
          ]
        }
      ],
      "source": [
        "#Contoh List\n",
        "L1=[ 1,4,2,13]\n",
        "print(type(L1))"
      ]
    },
    {
      "cell_type": "code",
      "source": [
        "L2=[\"a\", \"Python\",3]\n",
        "print(type(L2))"
      ],
      "metadata": {
        "id": "d4DaDKmrXy-q",
        "colab": {
          "base_uri": "https://localhost:8080/"
        },
        "outputId": "bf214b09-72e6-4569-fb5b-b3c5553fd692"
      },
      "execution_count": null,
      "outputs": [
        {
          "output_type": "stream",
          "name": "stdout",
          "text": [
            "<class 'list'>\n"
          ]
        }
      ]
    },
    {
      "cell_type": "code",
      "source": [
        "print(L1)\n",
        "print(L2)"
      ],
      "metadata": {
        "colab": {
          "base_uri": "https://localhost:8080/"
        },
        "id": "nsFZWhIF634m",
        "outputId": "aba0224c-dad8-42a2-9bff-9033ec1220c9"
      },
      "execution_count": null,
      "outputs": [
        {
          "output_type": "stream",
          "name": "stdout",
          "text": [
            "[1, 4, 2, 13]\n",
            "['a', 'Python', 3]\n"
          ]
        }
      ]
    },
    {
      "cell_type": "markdown",
      "source": [
        "Indeks di python (List,Tuple) mulai dari **0**"
      ],
      "metadata": {
        "id": "RaEjYS4o7Dl5"
      }
    },
    {
      "cell_type": "code",
      "source": [
        "#Sifat-sifat List\n",
        "\n",
        "#Terurut/Ordered\n",
        "print(\"Memanggil List L1 dengan indeks urutan:\", L1[0:3])\n",
        "\n",
        "#Bisa Diganti/Mutable\n",
        "L1[1] = 2\n",
        "print(\"List L1 setelah diganti elemennya:\", L1)\n",
        "\n",
        "L1 = [1, \"dua\", True, 2+3j]\n",
        "\n",
        "#Dapat Diindeks/Slicing\n",
        "print(\"Slicing List L1:\", L1[3])\n",
        "\n",
        "#Dapat Diijinkan Duplikasi\n",
        "L1 = [1, \"dua\", True, 2+3j, 2+3j]\n",
        "print(\"Duplikasi pada List L1:\", L1)\n",
        "\n",
        "#Dapat mengubah data dengan mengganti elemen tertentu\n",
        "L1 = [1, \"dua\", True, 2+3j]\n",
        "L1[2]=3\n",
        "print(\"Data setelah diubah:\", L1)\n",
        "\n",
        "#Dapat menambahkan elemen baru pada data\n",
        "L1 = [1, \"dua\", True, 2+3j]\n",
        "L1.append(20)\n",
        "print(\"Data setelah ditambahkan elemennya:\", L1)\n",
        "\n",
        "#Dapat menghapus elemen pada data (remove() = menghapus berdasarkan nama objek)\n",
        "L1 = [1, \"dua\", True, 2+3j]\n",
        "L1.remove(2+3j)\n",
        "print(\"Data setelah dihapus elemennya:\", L1)"
      ],
      "metadata": {
        "colab": {
          "base_uri": "https://localhost:8080/"
        },
        "id": "uoypgYwd7L4u",
        "outputId": "faee4275-af5a-4924-fdcc-2cd277d6c1ee"
      },
      "execution_count": null,
      "outputs": [
        {
          "output_type": "stream",
          "name": "stdout",
          "text": [
            "Memanggil List L1 dengan indeks urutan: [1, 4, 2]\n",
            "List L1 setelah diganti elemennya: [1, 2, 2, 13]\n",
            "Slicing List L1: (2+3j)\n",
            "Duplikasi pada List L1: [1, 'dua', True, (2+3j), (2+3j)]\n",
            "Data setelah diubah: [1, 'dua', 3, (2+3j)]\n",
            "Data setelah ditambahkan elemennya: [1, 'dua', True, (2+3j), 20]\n",
            "Data setelah dihapus elemennya: [1, 'dua', True]\n"
          ]
        }
      ]
    },
    {
      "cell_type": "code",
      "source": [
        "#menambahkan data menggunakan fungsi extend(menambahkan elemen baru pada list namun elemen tersebut ditambahkan secara individual)\n",
        "\n",
        "L1 = [1, \"dua\", True, 2+3j]\n",
        "L1.extend(\"nanas\")\n",
        "print(L1)"
      ],
      "metadata": {
        "colab": {
          "base_uri": "https://localhost:8080/"
        },
        "id": "YY9Gtc_u8_tf",
        "outputId": "a1fe474b-6041-499c-cac8-eb51ad88fd3a"
      },
      "execution_count": null,
      "outputs": [
        {
          "output_type": "stream",
          "name": "stdout",
          "text": [
            "[1, 'dua', True, (2+3j), 'n', 'a', 'n', 'a', 's']\n"
          ]
        }
      ]
    },
    {
      "cell_type": "code",
      "source": [
        "L1= [1, \"dua\", True, 2+3j]\n",
        "L1.extend([\"nanas\"])\n",
        "print(L1)"
      ],
      "metadata": {
        "colab": {
          "base_uri": "https://localhost:8080/"
        },
        "id": "0en0EJHSb6Tk",
        "outputId": "aa036fb2-553a-4191-b47d-1d6283380e63"
      },
      "execution_count": null,
      "outputs": [
        {
          "output_type": "stream",
          "name": "stdout",
          "text": [
            "[1, 'dua', True, (2+3j), 'nanas']\n"
          ]
        }
      ]
    },
    {
      "cell_type": "code",
      "source": [
        "#menambahkan data menggunakan fungsi insert(menambahkan elemen baru di list pada indeks tertentu)\n",
        "\n",
        "L1 = [1, \"dua\", True, 2+3j]\n",
        "L1.insert(2, 5)\n",
        "print(L1)"
      ],
      "metadata": {
        "id": "R6gT0jclbqjX",
        "colab": {
          "base_uri": "https://localhost:8080/"
        },
        "outputId": "7f848642-a12a-4c6f-85aa-df32d56535d9"
      },
      "execution_count": null,
      "outputs": [
        {
          "output_type": "stream",
          "name": "stdout",
          "text": [
            "[1, 'dua', 5, True, (2+3j)]\n"
          ]
        }
      ]
    },
    {
      "cell_type": "code",
      "source": [
        "#menghapus elemen dari list menggunakan fungsi pop() (menghapus berdasarkan indeks)\n",
        "L1 = [1, \"dua\", True, 2+3j]\n",
        "L1.pop(2)\n",
        "print(L1)\n"
      ],
      "metadata": {
        "colab": {
          "base_uri": "https://localhost:8080/"
        },
        "id": "H6jw1RZO93Og",
        "outputId": "168f2fb9-a68f-4c5e-f46d-797773e5e803"
      },
      "execution_count": null,
      "outputs": [
        {
          "output_type": "stream",
          "name": "stdout",
          "text": [
            "[1, 'dua', (2+3j)]\n"
          ]
        }
      ]
    },
    {
      "cell_type": "code",
      "source": [
        "L1 = [1, \"dua\", True, 2+3j]\n",
        "L1.pop()\n",
        "print(L1)"
      ],
      "metadata": {
        "colab": {
          "base_uri": "https://localhost:8080/"
        },
        "id": "7Fi4Vb8w99fi",
        "outputId": "bcded4a7-b433-4a05-c380-7fa60e4f3478"
      },
      "execution_count": null,
      "outputs": [
        {
          "output_type": "stream",
          "name": "stdout",
          "text": [
            "[1, 'dua', True]\n"
          ]
        }
      ]
    },
    {
      "cell_type": "markdown",
      "source": [
        "##Latihan 1"
      ],
      "metadata": {
        "id": "5Ucp3da--Qyr"
      }
    },
    {
      "cell_type": "code",
      "source": [
        "#Buatlah List kalian sendiri\n",
        "L=[True, 9, \"satu\", 1+1j, ]\n",
        "print(type(L))\n",
        "print(L)"
      ],
      "metadata": {
        "colab": {
          "base_uri": "https://localhost:8080/"
        },
        "id": "tqUOM0iw-Uw9",
        "outputId": "9e64c06a-a574-4257-956e-058b41068e6a"
      },
      "execution_count": null,
      "outputs": [
        {
          "output_type": "stream",
          "name": "stdout",
          "text": [
            "<class 'list'>\n",
            "[True, 9, 'satu', (1+1j)]\n"
          ]
        }
      ]
    },
    {
      "cell_type": "markdown",
      "source": [
        "##Latihan 2"
      ],
      "metadata": {
        "id": "IwKMHPh_-7gv"
      }
    },
    {
      "cell_type": "code",
      "source": [
        "#Ganti elemen yang ada pada List yang kalian buat\n",
        "\n",
        "#Mengganti elemen\n",
        "L[2]=1\n",
        "print(\"List L setelah diganti elemennya:\", L)\n",
        "\n",
        "#Di indeks/ Slicing\n",
        "print(\"Slicing data:\", L[2])\n",
        "\n",
        "#Menduplikat data\n",
        "L=[True, 9, 1, (1+1j), 1]\n",
        "print(\"data setelah di duplikat:\", L)\n",
        "\n",
        "#Mengubah data dengan mengganti elemen\n",
        "L[1]=\"sembilan\"\n",
        "print(\"Data setelah mengganti elemen:\", L)\n",
        "\n",
        "#Menambah elemen baru menggunakan:\n",
        "#Fungsi append\n",
        "L.append(3)\n",
        "print(\"Data setelah ditambah elemen menggunkan fungsi append:\", L)\n",
        "\n",
        "#Fungsi extend\n",
        "L.extend([\"aku\"])\n",
        "print(\"Data setelah ditambah elemen menggunkan fungsi extend:\", L)\n",
        "\n",
        "#fungsi insert\n",
        "L.insert(2,0)\n",
        "print(\"Data setelah ditambah elemen menggunkan fungsi insert:\", L)\n",
        "\n",
        "#Menghapus elemen data\n",
        "L.remove(3)\n",
        "print(\"data setelah dihapus elemennya:\", L)\n",
        "\n",
        "#Menghapus elemen data menggunakan fungsi pop\n",
        "L.pop()\n",
        "print(\"data setelah dihapus elemennya:\", L)"
      ],
      "metadata": {
        "colab": {
          "base_uri": "https://localhost:8080/"
        },
        "id": "c6frCkR8_DTC",
        "outputId": "29fa8ae0-0ea7-48ac-c6e7-88798e52356f"
      },
      "execution_count": null,
      "outputs": [
        {
          "output_type": "stream",
          "name": "stdout",
          "text": [
            "List L setelah diganti elemennya: [True, 9, 1, (1+1j)]\n",
            "Slicing data: 1\n",
            "data setelah di duplikat: [True, 9, 1, (1+1j), 1]\n",
            "Data setelah mengganti elemen: [True, 'sembilan', 1, (1+1j), 1]\n",
            "Data setelah ditambah elemen menggunkan fungsi append: [True, 'sembilan', 1, (1+1j), 1, 3]\n",
            "Data setelah ditambah elemen menggunkan fungsi extend: [True, 'sembilan', 1, (1+1j), 1, 3, 'aku']\n",
            "Data setelah ditambah elemen menggunkan fungsi insert: [True, 'sembilan', 0, 1, (1+1j), 1, 3, 'aku']\n",
            "data setelah dihapus elemennya: [True, 'sembilan', 0, 1, (1+1j), 1, 'aku']\n",
            "data setelah dihapus elemennya: [True, 'sembilan', 0, 1, (1+1j), 1]\n"
          ]
        }
      ]
    }
  ]
}